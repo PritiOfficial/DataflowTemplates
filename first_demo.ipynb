{
  "nbformat": 4,
  "nbformat_minor": 0,
  "metadata": {
    "colab": {
      "name": "first_demo",
      "provenance": [],
      "collapsed_sections": [],
      "authorship_tag": "ABX9TyOBK71Mq8NoZPunoeWCOcaM",
      "include_colab_link": true
    },
    "kernelspec": {
      "name": "python3",
      "display_name": "Python 3"
    }
  },
  "cells": [
    {
      "cell_type": "markdown",
      "metadata": {
        "id": "view-in-github",
        "colab_type": "text"
      },
      "source": [
        "<a href=\"https://colab.research.google.com/github/PritiOfficial/DataflowTemplates/blob/master/first_demo.ipynb\" target=\"_parent\"><img src=\"https://colab.research.google.com/assets/colab-badge.svg\" alt=\"Open In Colab\"/></a>"
      ]
    },
    {
      "cell_type": "code",
      "metadata": {
        "id": "JR75F3mL5fEx",
        "colab_type": "code",
        "colab": {}
      },
      "source": [
        "!{'pip3 install apache_beam'}"
      ],
      "execution_count": 0,
      "outputs": []
    },
    {
      "cell_type": "code",
      "metadata": {
        "id": "HvfrWtF96M8U",
        "colab_type": "code",
        "colab": {}
      },
      "source": [
        "!{'mkdir -p data'}"
      ],
      "execution_count": 0,
      "outputs": []
    },
    {
      "cell_type": "code",
      "metadata": {
        "id": "gmwnAyza6ToC",
        "colab_type": "code",
        "outputId": "a7298a1a-6c1d-40b5-ffc0-34a9e0af35ef",
        "colab": {
          "base_uri": "https://localhost:8080/",
          "height": 34
        }
      },
      "source": [
        "!ls"
      ],
      "execution_count": 0,
      "outputs": [
        {
          "output_type": "stream",
          "text": [
            "data  sample_data\n"
          ],
          "name": "stdout"
        }
      ]
    },
    {
      "cell_type": "code",
      "metadata": {
        "id": "lOMkJgCn6Xw3",
        "colab_type": "code",
        "outputId": "276e50fb-aeb8-4fae-a117-92c0fd3dfe65",
        "colab": {
          "resources": {
            "http://localhost:8080/nbextensions/google.colab/files.js": {
              "data": "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",
              "ok": true,
              "headers": [
                [
                  "content-type",
                  "application/javascript"
                ]
              ],
              "status": 200,
              "status_text": ""
            }
          },
          "base_uri": "https://localhost:8080/",
          "height": 74
        }
      },
      "source": [
        "from google.colab import files\n",
        "uploaded=files.upload()"
      ],
      "execution_count": 0,
      "outputs": [
        {
          "output_type": "display_data",
          "data": {
            "text/html": [
              "\n",
              "     <input type=\"file\" id=\"files-b6300b8d-9816-4b47-989a-0cda5e2336f9\" name=\"files[]\" multiple disabled />\n",
              "     <output id=\"result-b6300b8d-9816-4b47-989a-0cda5e2336f9\">\n",
              "      Upload widget is only available when the cell has been executed in the\n",
              "      current browser session. Please rerun this cell to enable.\n",
              "      </output>\n",
              "      <script src=\"/nbextensions/google.colab/files.js\"></script> "
            ],
            "text/plain": [
              "<IPython.core.display.HTML object>"
            ]
          },
          "metadata": {
            "tags": []
          }
        },
        {
          "output_type": "stream",
          "text": [
            "Saving demo.txt to demo (2).txt\n"
          ],
          "name": "stdout"
        }
      ]
    },
    {
      "cell_type": "code",
      "metadata": {
        "id": "_I34Vfg69EjC",
        "colab_type": "code",
        "outputId": "216ab505-fb39-4f1c-dda3-9c405d51122e",
        "colab": {
          "base_uri": "https://localhost:8080/",
          "height": 51
        }
      },
      "source": [
        "!ls"
      ],
      "execution_count": 0,
      "outputs": [
        {
          "output_type": "stream",
          "text": [
            " data\t\t'demo (2).txt'\t out-00000-of-00001\n",
            "'demo (1).txt'\t demo.txt\t sample_data\n"
          ],
          "name": "stdout"
        }
      ]
    },
    {
      "cell_type": "code",
      "metadata": {
        "id": "hVjNLTbO7ckU",
        "colab_type": "code",
        "outputId": "d61710a2-aef1-45f9-8f54-2c079baa836c",
        "colab": {
          "base_uri": "https://localhost:8080/",
          "height": 34
        }
      },
      "source": [
        "import apache_beam as beam\n",
        "\n",
        "p2 = beam.Pipeline()\n",
        "def splitting(element):\n",
        "  return element.split(' ')\n",
        "att=(\n",
        "    p2\n",
        "     |beam.io.ReadFromText('demo (2).txt')\n",
        "     |beam.FlatMap(splitting)\n",
        "     |beam.Map(lambda record:(record,1))\n",
        "     |beam.GroupByKey()\n",
        "     |beam.CombineValues(sum)\n",
        "    # |beam.combiners(sum)\n",
        "     |beam.io.WriteToText('out')\n",
        ")\n",
        "p2.run()\n",
        "\n",
        "#!{{'head -n 20 out-00000-of-00001'}}"
      ],
      "execution_count": 0,
      "outputs": [
        {
          "output_type": "execute_result",
          "data": {
            "text/plain": [
              "<apache_beam.runners.portability.fn_api_runner.RunnerResult at 0x7fcc2364d4a8>"
            ]
          },
          "metadata": {
            "tags": []
          },
          "execution_count": 46
        }
      ]
    },
    {
      "cell_type": "code",
      "metadata": {
        "id": "SeHQVetlBDjK",
        "colab_type": "code",
        "outputId": "e8d0f839-5493-441c-8e23-007219414795",
        "colab": {
          "base_uri": "https://localhost:8080/",
          "height": 1000
        }
      },
      "source": [
        "!cat out-00000-of-00001"
      ],
      "execution_count": 0,
      "outputs": [
        {
          "output_type": "stream",
          "text": [
            "('//searchInstances', 2)\n",
            "('\\t', 684)\n",
            "('\\t@RequestMapping(value', 38)\n",
            "('=', 114)\n",
            "('{', 76)\n",
            "('\"/searchInstances\"', 38)\n",
            "('},', 38)\n",
            "('method', 38)\n",
            "('RequestMethod.GET)', 38)\n",
            "('\\tpublic', 38)\n",
            "('ModelAndView', 38)\n",
            "('searchInstances(@Valid', 38)\n",
            "('@ModelAttribute(\"instance_name\")', 38)\n",
            "('final', 38)\n",
            "('String', 38)\n",
            "('instance_name,@Valid', 38)\n",
            "('ModelMap', 38)\n",
            "('modelMap,', 38)\n",
            "('HttpServletRequest', 38)\n",
            "('request)', 38)\n",
            "('\\t\\t', 38)\n",
            "('\\t\\tList<String>', 38)\n",
            "('searchInstances', 38)\n",
            "('new', 76)\n",
            "('ArrayList<String>();', 38)\n",
            "('\\t\\tsearchInstances=jdbct.query(env.getProperty(\"selectInstancesSql\"),', 38)\n",
            "('(rs,', 38)\n",
            "('rowNum)', 38)\n",
            "('->', 38)\n",
            "('rs.getString(1));', 38)\n",
            "('\\t\\tmodelMap.addAttribute(\"searchInstances\",', 38)\n",
            "('searchInstances);', 38)\n",
            "('\\t\\treturn', 38)\n",
            "('ModelAndView(\"header1\");', 38)\n",
            "('\\t}', 38)\n",
            "('', 3306)\n",
            "('gsutil', 304)\n",
            "('mb', 228)\n",
            "('-p', 38)\n",
            "('[PROJECT_NAME]', 38)\n",
            "('-c', 228)\n",
            "('MULTI_REGIONAL', 38)\n",
            "('-l', 228)\n",
            "('[BUCKET_LOCATION]', 38)\n",
            "('-b', 38)\n",
            "('on', 38)\n",
            "('gs://[BUCKET_NAME]/', 38)\n",
            "('//', 38)\n",
            "('gcloud', 266)\n",
            "('config', 76)\n",
            "('set', 76)\n",
            "('project', 38)\n",
            "('[YOUR_PROJECT_ID]', 38)\n",
            "('region', 38)\n",
            "('europe-west', 38)\n",
            "('git', 38)\n",
            "('clone', 38)\n",
            "('https://github.com/GoogleCloudPlatform/solutions-gcs-bq-streaming-functions-python', 38)\n",
            "('cd', 38)\n",
            "('solutions-gcs-bq-streaming-functions-python', 38)\n",
            "('export', 76)\n",
            "('DEVSHELL_PROJECT_ID=central-stream-256810', 38)\n",
            "('FILES_SOURCE=${DEVSHELL_PROJECT_ID}-files-source-$(date', 38)\n",
            "('+%s)', 76)\n",
            "('regional', 152)\n",
            "('${REGION}', 38)\n",
            "('gs://${FILES_SOURCE}', 38)\n",
            "('Create', 76)\n",
            "('the', 190)\n",
            "('Cloud', 38)\n",
            "('Storage', 38)\n",
            "('bucket', 38)\n",
            "('europe-west2', 152)\n",
            "('gs://central-stream-256810-files-source', 114)\n",
            "('bq', 152)\n",
            "('mk', 76)\n",
            "('p_dataset1', 38)\n",
            "('p_dataset1.ptable1', 38)\n",
            "('schema.json', 76)\n",
            "('To', 38)\n",
            "('deploy', 190)\n",
            "('function:(to', 38)\n",
            "('stage', 38)\n",
            "('your', 76)\n",
            "('functions', 342)\n",
            "('during', 38)\n",
            "('deployment)', 38)\n",
            "('gs://central-stream-256810-functions', 38)\n",
            "('Deploy', 38)\n",
            "('streaming', 266)\n",
            "('function', 114)\n",
            "('--region=${REGION}', 76)\n",
            "('\\\\', 152)\n",
            "('--source=./functions/streaming', 76)\n",
            "('--runtime=python37', 152)\n",
            "('--stage-bucket=${FUNCTIONS_BUCKET}', 38)\n",
            "('--trigger-bucket=${FILES_SOURCE}', 38)\n",
            "('\\tgcloud', 152)\n",
            "('--region=europe-west2', 228)\n",
            "('--stage-bucket=gs://central-stream-256810-functions', 114)\n",
            "('--trigger-bucket=gs://central-stream-256810-files-source', 38)\n",
            "('describe', 152)\n",
            "('--format=\"table[box](entryPoint,', 152)\n",
            "('status,', 152)\n",
            "('eventTrigger.eventType)\"', 152)\n",
            "('Provision', 38)\n",
            "('a', 38)\n",
            "('Pub/Sub', 38)\n",
            "('topic,', 38)\n",
            "('called', 38)\n",
            "('streaming_error_topic,', 38)\n",
            "('to', 38)\n",
            "('handle', 38)\n",
            "('error', 76)\n",
            "('path.', 38)\n",
            "('STREAMING_ERROR_TOPIC=streaming_error_topic', 38)\n",
            "('pubsub', 38)\n",
            "('topics', 38)\n",
            "('create', 38)\n",
            "('streaming_error_topic', 38)\n",
            "('Handling', 38)\n",
            "('gs://central-stream-256810-files-error', 38)\n",
            "('streaming_error', 114)\n",
            "('--source=./functions/move_file', 76)\n",
            "('--entry-point=move_file', 76)\n",
            "('--trigger-topic=streaming_error_topic', 38)\n",
            "('--set-env-vars', 76)\n",
            "('SOURCE_BUCKET=gs://central-stream-256810-files-source,DESTINATION_BUCKET=gs://central-stream-256810-files-error', 76)\n",
            "('Verify', 38)\n",
            "('that', 76)\n",
            "('was', 76)\n",
            "('created.', 38)\n",
            "('Handle', 38)\n",
            "('successful', 38)\n",
            "('FILES_SUCCESS=${DEVSHELL_PROJECT_ID}-files-success-$(date', 38)\n",
            "('coldline', 38)\n",
            "('gs://central-stream-256810-files-success', 38)\n",
            "('streaming_success', 76)\n",
            "('--trigger-topic=STREAMING_SUCCESS_TOPIC', 38)\n",
            "('\\tverify', 38)\n",
            "('created', 38)\n",
            "('//testing', 38)\n",
            "('cp', 76)\n",
            "('test_files/data.json', 38)\n",
            "('query', 38)\n",
            "(\"'select\", 38)\n",
            "('first_name,', 38)\n",
            "('last_name,', 38)\n",
            "('dob', 38)\n",
            "('from', 38)\n",
            "(\"p_dataset1.ptable1'\", 2)\n",
            "(\"p_dataset1.ptable1'//searchInstances\", 36)\n"
          ],
          "name": "stdout"
        }
      ]
    }
  ]
}